{
 "cells": [
  {
   "cell_type": "code",
   "execution_count": 30,
   "metadata": {},
   "outputs": [],
   "source": [
    "from openai import OpenAI\n",
    "from dotenv import load_dotenv\n",
    "from pathlib import Path\n",
    "\n",
    "import os\n",
    "load_dotenv()\n",
    "\n",
    "client = OpenAI(\n",
    "    # This is the default and can be omitted\n",
    "    api_key=os.environ.get(\"API_KEY\")\n",
    ")\n",
    "\n",
    "chat_completion = client.chat.completions.create(\n",
    "    messages=[{\n",
    "            \"role\": \"user\",\n",
    "            \"content\": \"\"\"\n",
    "            Can you create a github readme for me? i have a group project at school (we are team14) our goal is to create a website with a database, default users, admin users, api server, and a front end. We are using python, django, and sqlite3. We are also using html, css, and javascript. We are using git for version control and we are using github for our repository. We are using the school server for deployment.\n",
    "            \"\"\",\n",
    "        }],\n",
    "    model=\"gpt-4-1106-preview\",\n",
    ")"
   ]
  },
  {
   "cell_type": "code",
   "execution_count": 31,
   "metadata": {},
   "outputs": [
    {
     "name": "stdout",
     "output_type": "stream",
     "text": [
      "Certainly! Below is a template for your GitHub README that you can use for your group project. Be sure to customize it to fit the specifics of your project, such as including any additional instructions necessary for installation, required dependencies, or special configuration steps.\n",
      "\n",
      "```markdown\n",
      "# Team14 School Project Website\n",
      "\n",
      "## Overview\n",
      "Welcome to the repository of Team 14's school project! Our group has focused on developing a dynamic website coupled with a database, complete with user authentication, admin capabilities, and an API server. The website has both default and admin user roles, integrating a front-end built with HTML, CSS, and JavaScript, and a back-end powered by Python and Django. The data is managed using SQLite3, ensuring lightweight database interaction.\n",
      "\n",
      "## Features\n",
      "- **User Authentication**: Secure sign-up/sign-in processes for default and admin users.\n",
      "- **Admin Dashboard**: Special privileges for admin users including user management and content moderation.\n",
      "- **API Server**: RESTful API endpoints for seamless front-end back-end communication.\n",
      "- **Responsive Front-End**: A user-friendly interface with HTML, CSS, and JavaScript.\n",
      "- **Database Integration**: Efficient data storage and retrieval with SQLite3.\n",
      "\n",
      "## Technologies Used\n",
      "- **Back-End**: Python, Django\n",
      "- **Front-End**: HTML, CSS, JavaScript\n",
      "- **Database**: SQLite3\n",
      "- **Version Control**: Git\n",
      "- **Repository Hosting**: GitHub\n",
      "- **Deployment Server**: School's Deployment Server\n",
      "\n",
      "## Getting Started\n",
      "\n",
      "### Prerequisites\n",
      "- Python (Version x.x.x)\n",
      "- Django (Version x.x.x)\n",
      "- Git\n",
      "- Basic knowledge of HTML, CSS, JavaScript, and Python\n",
      "\n",
      "### Installation\n",
      "1. **Clone the repository**\n",
      "\n",
      "   ```\n",
      "   git clone https://github.com/school/team14project.git\n",
      "   ```\n",
      "2. **Navigate to the project directory**\n",
      "\n",
      "   ```\n",
      "   cd team14project\n",
      "   ```\n",
      "\n",
      "3. **Create a virtual environment** (optional, but recommended)\n",
      "\n",
      "   ```\n",
      "   python -m venv venv\n",
      "   source venv/bin/activate  # For Unix or MacOS\n",
      "   venv\\Scripts\\activate  # For Windows\n",
      "   ```\n",
      "\n",
      "4. **Install dependencies** \n",
      "\n",
      "   ```\n",
      "   pip install -r requirements.txt\n",
      "   ```\n",
      "   \n",
      "5. **Run database migrations**\n",
      "\n",
      "   ```\n",
      "   python manage.py migrate\n",
      "   ```\n",
      "\n",
      "6. **Start the development server**\n",
      "\n",
      "   ```\n",
      "   python manage.py runserver\n",
      "   ```\n",
      "\n",
      "7. **Open your browser and navigate to**\n",
      "\n",
      "   ```\n",
      "   http://127.0.0.1:8000/\n",
      "   ```\n",
      "\n",
      "### Usage\n",
      "- To log in as a default user, visit `/login`\n",
      "- Admin users can log in and access the admin panel at `/admin`\n",
      "\n",
      "## Deployment\n",
      "For details on deploying the project on the school's server, refer to the school's deployment guide or consult with a system administrator.\n",
      "\n",
      "## Contributions\n",
      "As this is a group project for educational purposes, contributions are limited to team members. However, if you have suggestions or feedback, please open an issue in this repository.\n",
      "\n",
      "## License\n",
      "This project is not licensed and is for educational use only.\n",
      "\n",
      "## Team Members\n",
      "- Member 1\n",
      "- Member 2\n",
      "- Member 3\n",
      "- ... (Add all team members)\n",
      "\n",
      "## Acknowledgements\n",
      "Special thanks to our school instructors and mentors for providing guidance throughout the development of this project.\n",
      "\n",
      "---\n",
      "**Note:** This README is a template and should be updated according to the project's progression.\n",
      "```\n",
      "\n",
      "Remember to replace placeholders like \"Member 1,\" \"Python (Version x.x.x),\" and \"Django (Version x.x.x)\" with actual information relevant to your project. Also, refine the \"Deployment\" section with specific instructions if necessary, and list all team members' names in the \"Team Members\" section.\n"
     ]
    }
   ],
   "source": [
    "print(chat_completion.choices[0].message.content)"
   ]
  },
  {
   "cell_type": "code",
   "execution_count": 26,
   "metadata": {},
   "outputs": [],
   "source": [
    "client = OpenAI(\n",
    "    # This is the default and can be omitted\n",
    "    api_key=os.environ.get(\"API_KEY\")\n",
    ")\n",
    "\n",
    "response = client.images.generate(\n",
    "  model=\"dall-e-3\",\n",
    "  prompt=\"Joe biden the president with huge chest, HD, REALISM\",\n",
    "  size=\"1024x1024\",\n",
    "  quality=\"standard\",\n",
    "  n=1,\n",
    ")"
   ]
  },
  {
   "cell_type": "code",
   "execution_count": 27,
   "metadata": {},
   "outputs": [
    {
     "name": "stdout",
     "output_type": "stream",
     "text": [
      "https://oaidalleapiprodscus.blob.core.windows.net/private/org-p4vXhakxkgSAUBdqVrysicPM/user-DgC5c952FVVt6j2F83zJSIQO/img-zKKOUBKBORFuPev7cNdv4BF6.png?st=2024-02-02T09%3A32%3A42Z&se=2024-02-02T11%3A32%3A42Z&sp=r&sv=2021-08-06&sr=b&rscd=inline&rsct=image/png&skoid=6aaadede-4fb3-4698-a8f6-684d7786b067&sktid=a48cca56-e6da-484e-a814-9c849652bcb3&skt=2024-02-01T22%3A36%3A30Z&ske=2024-02-02T22%3A36%3A30Z&sks=b&skv=2021-08-06&sig=uqcCRlyUlp1Wq6ZtPbchR/GV6rubNzQZncgrfP73av4%3D\n"
     ]
    }
   ],
   "source": [
    "print(response.data[0].url)"
   ]
  }
 ],
 "metadata": {
  "kernelspec": {
   "display_name": "Python 3",
   "language": "python",
   "name": "python3"
  },
  "language_info": {
   "codemirror_mode": {
    "name": "ipython",
    "version": 3
   },
   "file_extension": ".py",
   "mimetype": "text/x-python",
   "name": "python",
   "nbconvert_exporter": "python",
   "pygments_lexer": "ipython3",
   "version": "3.11.5"
  }
 },
 "nbformat": 4,
 "nbformat_minor": 2
}
