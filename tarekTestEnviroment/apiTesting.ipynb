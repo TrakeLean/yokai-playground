{
 "cells": [
  {
   "cell_type": "code",
   "execution_count": 22,
   "metadata": {},
   "outputs": [],
   "source": [
    "from openai import OpenAI\n",
    "from dotenv import load_dotenv\n",
    "from pathlib import Path\n",
    "\n",
    "import os\n",
    "load_dotenv()\n",
    "\n",
    "client = OpenAI(\n",
    "    # This is the default and can be omitted\n",
    "    api_key=os.environ.get(\"API_KEY\")\n",
    ")\n",
    "\n",
    "chat_completion = client.chat.completions.create(\n",
    "    messages=[{\n",
    "            \"role\": \"user\",\n",
    "            \"content\": \"is this a good prompt? if not can you improve it?: Lecture Summarizer is designed to transform lecture PDFs into easily understandable keypoints, focusing on key concepts and definitions. It aims to simplify complex academic material into a format that's accessible and easy to grasp. The GPT should prioritize clarity and simplicity in its language, avoiding overly technical jargon unless it's necessary for explaining a concept. It should present information in a way that's relatable and easy for anyone to understand, making it an effective tool for learning and revision. The tone should be friendly and approachable, making the learning process more engaging.\",\n",
    "        }],\n",
    "    model=\"gpt-4-1106-preview\",\n",
    ")"
   ]
  },
  {
   "cell_type": "code",
   "execution_count": 23,
   "metadata": {},
   "outputs": [
    {
     "name": "stdout",
     "output_type": "stream",
     "text": [
      "Your prompt is generally good and clearly describes the intended function and tone of the \"Lecture Summarizer.\" It provides a clear objective, target audience, and the desired style of the output. However, if you're using this prompt to guide an AI like OpenAI's GPT, you could make it slightly more succinct and directive, depending on the AI's specific capabilities.\n",
      "\n",
      "Here is a refined version:\n",
      "\n",
      "---\n",
      "\n",
      "Transform lecture PDFs into digestible keypoints, with an emphasis on key concepts and definitions. The summarization should distill complex academic content for easy comprehension, utilizing clear and simple language. Technical jargon should be minimized but sufficiently employed to clarify concepts when necessary. Information should be conveyed in an easily relatable manner suitable for learners at all levels. Maintain a friendly and engaging tone to enhance the learning experience.\n",
      "\n",
      "---\n",
      "\n",
      "This improved prompt is more direct and concise, giving clear instructions to the AI about how to execute the task. It retains the essential components of the original prompt while streamlining the language.\n"
     ]
    }
   ],
   "source": [
    "print(chat_completion.choices[0].message.content)"
   ]
  }
 ],
 "metadata": {
  "kernelspec": {
   "display_name": "Python 3",
   "language": "python",
   "name": "python3"
  },
  "language_info": {
   "codemirror_mode": {
    "name": "ipython",
    "version": 3
   },
   "file_extension": ".py",
   "mimetype": "text/x-python",
   "name": "python",
   "nbconvert_exporter": "python",
   "pygments_lexer": "ipython3",
   "version": "3.11.5"
  }
 },
 "nbformat": 4,
 "nbformat_minor": 2
}
