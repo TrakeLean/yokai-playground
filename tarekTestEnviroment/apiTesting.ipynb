{
 "cells": [
  {
   "cell_type": "code",
   "execution_count": 44,
   "metadata": {},
   "outputs": [],
   "source": [
    "from openai import OpenAI\n",
    "from dotenv import load_dotenv\n",
    "from pathlib import Path\n",
    "\n",
    "import os\n",
    "load_dotenv()\n",
    "\n",
    "client = OpenAI(\n",
    "    # This is the default and can be omitted\n",
    "    api_key=os.environ.get(\"API_KEY\")\n",
    ")\n",
    "\n",
    "chat_completion = client.chat.completions.create(\n",
    "    messages=[{\n",
    "            \"role\": \"user\",\n",
    "            \"content\": \"\"\"hello, how are you?\"\"\",\n",
    "        }],\n",
    "    model=\"gpt-4-1106-preview\",\n",
    ")"
   ]
  },
  {
   "cell_type": "code",
   "execution_count": 45,
   "metadata": {},
   "outputs": [
    {
     "name": "stdout",
     "output_type": "stream",
     "text": [
      "Below is the prompt reformatted to present questions in JSON format with the 'Answer' fields filled with the correct answers. Notice that JSON format requires key-value pairs, so each question element is an object with 'type', 'question', 'options' (for multiple-choice questions), and 'answer' fields.\n",
      "\n",
      "```json\n",
      "{\n",
      "  \"prompt\": \"As part of your enhanced role, you are tasked with crafting questions designed to aid students' learning and retention based on their lecture notes or study materials. You should generate a balanced mix of multiple-choice and short-answer questions. Each question should be concise, clear, and directly related to the provided content. Present your questions in JSON format and ensure the 'Answer' field is filled with the correct answer. Focus on maintaining a user-centered approach by adapting the question difficulty to individual study needs and promoting engagement.\",\n",
      "  \"questions\": [\n",
      "    {\n",
      "      \"type\": \"multiple_choice\",\n",
      "      \"question\": \"What substance in the cell membrane is primarily responsible for the facilitation of passive transport?\",\n",
      "      \"options\": [\n",
      "        \"a) Integral proteins\",\n",
      "        \"b) Cholesterol\",\n",
      "        \"c) Phospholipids\",\n",
      "        \"d) Carbohydrates\"\n",
      "      ],\n",
      "      \"answer\": \"a) Integral proteins\"\n",
      "    },\n",
      "    {\n",
      "      \"type\": \"multiple_choice\",\n",
      "      \"question\": \"Identify the historical figure who played a significant role in the unification of ancient Egypt:\",\n",
      "      \"options\": [\n",
      "        \"a) Tutankhamun\",\n",
      "        \"b) Cleopatra\",\n",
      "        \"c) Ramesses II\",\n",
      "        \"d) Narmer\"\n",
      "      ],\n",
      "      \"answer\": \"d) Narmer\"\n",
      "    },\n",
      "    {\n",
      "      \"type\": \"short_answer\",\n",
      "      \"question\": \"Describe the process of cell division in prokaryotic organisms.\",\n",
      "      \"answer\": \"The process of cell division in prokaryotic organisms is known as binary fission. The process includes replication of the DNA, segregation of the copied chromosomes, and splitting of the parent cell into two daughter cells.\"\n",
      "    },\n",
      "    {\n",
      "      \"type\": \"short_answer\",\n",
      "      \"question\": \"Explain the significance of the Magna Carta in English legal history.\",\n",
      "      \"answer\": \"The Magna Carta, signed in 1215, is significant in English legal history as it established the principle that everyone, including the king, is subject to the law. It also laid the foundations for individual rights and the concept of due process.\"\n",
      "    }\n",
      "  ]\n",
      "}\n",
      "```\n",
      "\n",
      "This JSON structure is suitable for use in programs that need to parse and use the data in a structured format, such as for automated quiz systems or educational software.\n"
     ]
    }
   ],
   "source": [
    "print(chat_completion.choices[0].message.content)"
   ]
  },
  {
   "cell_type": "markdown",
   "metadata": {},
   "source": [
    "As part of your enhanced role, you are tasked with crafting a balanced mix of multiple-choice and short-answer questions designed to aid learning and retention, based on users' lecture notes or study materials. Each question should be concise, clear, and closely aligned with the provided content. For every question you present, include an 'Answer:' field for users to submit their responses.\n",
    "\n",
    "The questions and corresponding feedback should be presented in Markdown format for better readability and structure. Maintain a user-centered approach by adapting your responses to individual study needs and preferences, always focusing on engagement and support. Avoid off-topic questions, and strive to address various learning styles through your question selection.\n",
    "\n",
    "### Example Questions in Markdown\n",
    "\n",
    "**Multiple-Choice Question:**\n",
    "\n",
    "1. What is the primary function of the mitochondria in a cell?\n",
    "    a. To produce cell walls.\n",
    "    b. To synthesize DNA.\n",
    "    c. To generate ATP.\n",
    "    d. To transport proteins.\n",
    "\n",
    "_Answer:_ \n",
    "\n",
    "**Short answer Question:**\n",
    "What is the primary function of the mitochondria in a cell?\n",
    "\n",
    "_Answer:_\n",
    "\n",
    "Feel free to customize the structure as necessary, but ensure to keep the Markdown formatting for consistency and clarity."
   ]
  }
 ],
 "metadata": {
  "kernelspec": {
   "display_name": "Python 3",
   "language": "python",
   "name": "python3"
  },
  "language_info": {
   "codemirror_mode": {
    "name": "ipython",
    "version": 3
   },
   "file_extension": ".py",
   "mimetype": "text/x-python",
   "name": "python",
   "nbconvert_exporter": "python",
   "pygments_lexer": "ipython3",
   "version": "3.11.5"
  }
 },
 "nbformat": 4,
 "nbformat_minor": 2
}
